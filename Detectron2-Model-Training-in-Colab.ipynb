{
 "cells": [
  {
   "cell_type": "code",
   "execution_count": null,
   "metadata": {
    "id": "T3nCvm1mTbK_"
   },
   "outputs": [],
   "source": [
    "from google.colab import drive\n",
    "drive.mount('/content/drive')"
   ]
  },
  {
   "cell_type": "code",
   "execution_count": null,
   "metadata": {
    "id": "QOcKXhVN9HmP"
   },
   "outputs": [],
   "source": [
    "!unzip \"/content/drive/MyDrive/detectron2_detection.zip\""
   ]
  },
  {
   "cell_type": "markdown",
   "metadata": {
    "id": "YTV4jWZMYMlu"
   },
   "source": [
    "###**Installing Detectron2 on Colab**"
   ]
  },
  {
   "cell_type": "code",
   "execution_count": null,
   "metadata": {
    "id": "6pjRZdeiYPPI"
   },
   "outputs": [],
   "source": [
    "!pip install pyyaml==5.1\n",
    "!pip install torch==1.8.0+cu101 torchvision==0.9.0+cu101 -f https://download.pytorch.org/whl/torch_stable.html\n"
   ]
  },
  {
   "cell_type": "code",
   "execution_count": null,
   "metadata": {
    "id": "HpUGHZuwYZvS"
   },
   "outputs": [],
   "source": [
    "!pip install detectron2 -f https://dl.fbaipublicfiles.com/detectron2/wheels/cu101/torch1.8/index.html\n"
   ]
  },
  {
   "cell_type": "code",
   "execution_count": 4,
   "metadata": {
    "id": "KGheWs13YoM9"
   },
   "outputs": [],
   "source": [
    "import torch\n",
    "assert torch.__version__.startswith(\"1.8\") \n",
    "import torchvision\n",
    "import cv2"
   ]
  },
  {
   "cell_type": "code",
   "execution_count": 5,
   "metadata": {
    "id": "UPhV9QzOTggW"
   },
   "outputs": [],
   "source": [
    "import os\n",
    "import numpy as np\n",
    "import json\n",
    "import random\n",
    "import matplotlib.pyplot as plt\n",
    "%matplotlib inline\n",
    "\n",
    "from detectron2.structures import BoxMode\n",
    "from detectron2.data import DatasetCatalog, MetadataCatalog"
   ]
  },
  {
   "cell_type": "markdown",
   "metadata": {
    "id": "03jcsFg9X-9v"
   },
   "source": [
    "##**Saving Data According to the Detectron2 Configuration**"
   ]
  },
  {
   "cell_type": "code",
   "execution_count": 11,
   "metadata": {
    "id": "jPDbZ10mTgdf"
   },
   "outputs": [],
   "source": [
    "def get_data_dicts(directory, classes):\n",
    "    dataset_dicts = []\n",
    "    for filename in [file for file in os.listdir(directory) if file.endswith('.json')]:\n",
    "        json_file = os.path.join(directory, filename)\n",
    "        with open(json_file) as f:\n",
    "            img_anns = json.load(f)\n",
    "\n",
    "        record = {}\n",
    "        \n",
    "        filename = os.path.join(directory, img_anns[\"imagePath\"])\n",
    "        \n",
    "        record[\"file_name\"] = filename\n",
    "        record[\"height\"] = 700\n",
    "        record[\"width\"] = 700\n",
    "      \n",
    "        annos = img_anns[\"shapes\"]\n",
    "        objs = []\n",
    "        for anno in annos:\n",
    "            px = [a[0] for a in anno['points']] \n",
    "            py = [a[1] for a in anno['points']] \n",
    "            poly = [(x, y) for x, y in zip(px, py)] \n",
    "            poly = [p for x in poly for p in x]\n",
    "\n",
    "            obj = {\n",
    "                \"bbox\": [np.min(px), np.min(py), np.max(px), np.max(py)],\n",
    "                \"bbox_mode\": BoxMode.XYXY_ABS,\n",
    "                \"category_id\": classes.index(anno['label']),\n",
    "                \"iscrowd\": 0\n",
    "            }\n",
    "            objs.append(obj)\n",
    "        record[\"annotations\"] = objs\n",
    "        dataset_dicts.append(record)\n",
    "    return dataset_dicts"
   ]
  },
  {
   "cell_type": "code",
   "execution_count": 13,
   "metadata": {
    "id": "NGt-e47XTgas"
   },
   "outputs": [],
   "source": [
    "classes = ['Traffic Sign']\n",
    "\n",
    "data_path = '/content/detectron2_detection/'\n",
    "\n",
    "for d in [\"train\", \"test\"]:\n",
    "    DatasetCatalog.register(\n",
    "        \"my_\" + d, \n",
    "        lambda d=d: get_data_dicts(data_path+d, classes)\n",
    "    )\n",
    "    MetadataCatalog.get(\"my_\" + d).set(thing_classes=classes)\n",
    "\n",
    "microcontroller_metadata = MetadataCatalog.get(\"my_train\")"
   ]
  },
  {
   "cell_type": "markdown",
   "metadata": {
    "id": "BUDK8zsnbGG6"
   },
   "source": [
    "###**Training the Detectron2 Object Detection Model**"
   ]
  },
  {
   "cell_type": "code",
   "execution_count": 9,
   "metadata": {
    "id": "Nm3OOWjXTgZZ"
   },
   "outputs": [],
   "source": [
    "from detectron2 import model_zoo\n",
    "from detectron2.engine import DefaultTrainer, DefaultPredictor\n",
    "from detectron2.config import get_cfg\n",
    "from detectron2.utils.visualizer import ColorMode, Visualizer\n",
    "from matplotlib.patches import Rectangle"
   ]
  },
  {
   "cell_type": "markdown",
   "metadata": {
    "id": "trWnqHbprbu_"
   },
   "source": [
    "###**Creating the Configuration File**"
   ]
  },
  {
   "cell_type": "code",
   "execution_count": 8,
   "metadata": {
    "id": "tZswZczBTgWx"
   },
   "outputs": [],
   "source": [
    "cfg = get_cfg() \n",
    "cfg.merge_from_file(model_zoo.get_config_file(\"COCO-Detection/faster_rcnn_R_101_FPN_3x.yaml\")) \n",
    "cfg.DATASETS.TRAIN = (\"my_train\",) \n",
    "cfg.DATASETS.TEST = ()\n",
    "cfg.DATALOADER.NUM_WORKERS = 2 \n",
    "cfg.MODEL.WEIGHTS = model_zoo.get_checkpoint_url(\"COCO-Detection/faster_rcnn_R_101_FPN_3x.yaml\") \n",
    "cfg.SOLVER.IMS_PER_BATCH = 2 \n",
    "cfg.SOLVER.BASE_LR = 0.001 \n",
    "cfg.SOLVER.GAMMA = 0.05 \n",
    "cfg.SOLVER.STEPS = [500] \n",
    "cfg.TEST.EVAL_PERIOD = 200 \n",
    "\n",
    "cfg.SOLVER.MAX_ITER = 2000\n",
    "cfg.MODEL.ROI_HEADS.NUM_CLASSES = 3"
   ]
  },
  {
   "cell_type": "code",
   "execution_count": null,
   "metadata": {
    "id": "W4AzNO35bm98"
   },
   "outputs": [],
   "source": [
    "os.makedirs(cfg.OUTPUT_DIR, exist_ok=True) \n",
    "trainer = DefaultTrainer(cfg) \n",
    "trainer.resume_or_load(resume=False) "
   ]
  },
  {
   "cell_type": "code",
   "execution_count": null,
   "metadata": {
    "id": "0ptRzXxG0gxU"
   },
   "outputs": [],
   "source": [
    "trainer.train() "
   ]
  },
  {
   "cell_type": "code",
   "execution_count": null,
   "metadata": {
    "id": "E8K8R9JqL0jh"
   },
   "outputs": [],
   "source": [
    "%load_ext tensorboard \n",
    "%tensorboard --logdir output"
   ]
  },
  {
   "cell_type": "markdown",
   "metadata": {
    "id": "Z4f1Tot2esU-"
   },
   "source": [
    "###**Trained Model test**"
   ]
  },
  {
   "cell_type": "code",
   "execution_count": null,
   "metadata": {
    "id": "lqDbn2HedARc"
   },
   "outputs": [],
   "source": [
    "cfg.MODEL.WEIGHTS = os.path.join(cfg.OUTPUT_DIR, \"model_final.pth\") \n",
    "cfg.MODEL.ROI_HEADS.SCORE_THRESH_TEST = 0.58 \n",
    "cfg.DATASETS.TEST = (\"my_test\", ) \n",
    "predictor = DefaultPredictor(cfg) \n",
    "test_metadata = MetadataCatalog.get(\"my_test\")\n",
    "test_dataset_dicts = get_data_dicts(data_path+'test', classes)"
   ]
  },
  {
   "cell_type": "code",
   "execution_count": null,
   "metadata": {
    "id": "bRzUnRyosdnO"
   },
   "outputs": [],
   "source": [
    "cfg.MODEL.ROI_HEADS.SCORE_THRESH_TEST = 0.58\n"
   ]
  },
  {
   "cell_type": "markdown",
   "metadata": {
    "id": "B-XirUkGnODL"
   },
   "source": [
    "###**Image Test**"
   ]
  },
  {
   "cell_type": "code",
   "execution_count": null,
   "metadata": {
    "id": "IHcgGp8Rfy7S"
   },
   "outputs": [],
   "source": [
    "for d in random.sample(test_dataset_dicts, 4):    \n",
    "    img = cv2.imread(d[\"file_name\"])\n",
    "    outputs = predictor(img)\n",
    "    v = Visualizer(img[:, :, ::-1],\n",
    "                   metadata=microcontroller_metadata, \n",
    "                   scale=0.8, \n",
    "                   #instance_mode=ColorMode.IMAGE_BW # removes the colors of unsegmented pixels\n",
    "    )\n",
    "    v = v.draw_instance_predictions(outputs[\"instances\"].to(\"cpu\"))\n",
    "    plt.figure(figsize = (20, 10))\n",
    "    plt.imshow(cv2.cvtColor(v.get_image()[:, :, ::-1], cv2.COLOR_BGR2RGB))\n",
    "    plt.show()"
   ]
  },
  {
   "cell_type": "code",
   "execution_count": null,
   "metadata": {
    "id": "-QzKzEwKmQIi"
   },
   "outputs": [],
   "source": [
    "from detectron2.utils.visualizer import ColorMode\n",
    "import glob\n",
    "from google.colab.patches import cv2_imshow\n",
    "for imageName in glob.glob('/content/drive/MyDrive/proje/resim_video/a.jpg'):\n",
    "  im = cv2.imread(imageName)\n",
    "  outputs = predictor(im)\n",
    "  v = Visualizer(im[:, :, ::-1],\n",
    "                metadata=test_metadata, \n",
    "                scale=0.8\n",
    "                 )\n",
    "  out = v.draw_instance_predictions(outputs[\"instances\"].to(\"cpu\"))\n",
    "  cv2_imshow(out.get_image()[:, :, ::-1])"
   ]
  },
  {
   "cell_type": "markdown",
   "metadata": {
    "id": "QZynVIP2OHXr"
   },
   "source": [
    "###**Video Test**"
   ]
  },
  {
   "cell_type": "code",
   "execution_count": null,
   "metadata": {
    "id": "M8bHPwu4SbIG"
   },
   "outputs": [],
   "source": [
    "from detectron2.config import get_cfg\n",
    "cfg = get_cfg() \n",
    "cfg.merge_from_file(model_zoo.get_config_file(\"COCO-Detection/faster_rcnn_R_101_FPN_3x.yaml\")) \n",
    "cfg.DATASETS.TRAIN = (\"my_train\",) \n",
    "cfg.DATASETS.TEST = ()\n",
    "cfg.DATALOADER.NUM_WORKERS = 2 \n",
    "cfg.SOLVER.IMS_PER_BATCH = 2 \n",
    "cfg.SOLVER.BASE_LR = 0.001 \n",
    "cfg.SOLVER.GAMMA = 0.05 \n",
    "cfg.SOLVER.STEPS = [500] \n",
    "cfg.TEST.EVAL_PERIOD = 200 \n",
    "cfg.SOLVER.MAX_ITER = 2000 \n",
    "cfg.MODEL.ROI_HEADS.NUM_CLASSES = 3 \n",
    "cfg.MODEL.WEIGHTS = \"/content/output/model_final.pth\"\n",
    "cfg.MODEL.ROI_HEADS.SCORE_THRESH_TEST = 0.58\n",
    "test_dataset_dicts = get_data_dicts(data_path+'train', classes)\n",
    "\n",
    "cfg.merge_from_list([\"MODEL.WEIGHTS\", \"weights.pth\"])   \n",
    "print(cfg.dump()) \n",
    "with open(\"output.yaml\", \"w\") as f:\n",
    "  f.write(cfg.dump())   "
   ]
  },
  {
   "cell_type": "code",
   "execution_count": null,
   "metadata": {
    "id": "dDqreXOkZJIR"
   },
   "outputs": [],
   "source": [
    "!git clone https://github.com/facebookresearch/detectron2"
   ]
  },
  {
   "cell_type": "code",
   "execution_count": null,
   "metadata": {
    "id": "shmoDaU-qA0C"
   },
   "outputs": [],
   "source": [
    "%run detectron2/demo/demo.py --config-file /content/output.yaml --video-input /content/drive/MyDrive/son_test.mp4 --confidence-threshold 0.58 --output video-output.mp4 \\\n",
    "  --opts MODEL.WEIGHTS /content/output/model_final.pth"
   ]
  },
  {
   "cell_type": "code",
   "execution_count": null,
   "metadata": {
    "id": "9LhwRxlwOwNv"
   },
   "outputs": [],
   "source": [
    "from google.colab import files\n",
    "files.download('/content/video-output.mp4')"
   ]
  },
  {
   "cell_type": "code",
   "execution_count": null,
   "metadata": {
    "id": "ZDOahV5prjKF"
   },
   "outputs": [],
   "source": [
    "from google.colab import files\n",
    "files.download('/content/output/model_final.pth')"
   ]
  }
 ],
 "metadata": {
  "accelerator": "GPU",
  "colab": {
   "collapsed_sections": [],
   "name": "Detectron2_detection.ipynb",
   "provenance": []
  },
  "kernelspec": {
   "display_name": "Python 3 (ipykernel)",
   "language": "python",
   "name": "python3"
  },
  "language_info": {
   "codemirror_mode": {
    "name": "ipython",
    "version": 3
   },
   "file_extension": ".py",
   "mimetype": "text/x-python",
   "name": "python",
   "nbconvert_exporter": "python",
   "pygments_lexer": "ipython3",
   "version": "3.9.7"
  }
 },
 "nbformat": 4,
 "nbformat_minor": 1
}
